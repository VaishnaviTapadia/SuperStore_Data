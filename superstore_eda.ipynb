{
  "nbformat": 4,
  "nbformat_minor": 0,
  "metadata": {
    "colab": {
      "provenance": [],
      "authorship_tag": "ABX9TyPVqR0vk4smT+rkF7c+HIHZ",
      "include_colab_link": true
    },
    "kernelspec": {
      "name": "python3",
      "display_name": "Python 3"
    },
    "language_info": {
      "name": "python"
    }
  },
  "cells": [
    {
      "cell_type": "markdown",
      "metadata": {
        "id": "view-in-github",
        "colab_type": "text"
      },
      "source": [
        "<a href=\"https://colab.research.google.com/github/VaishnaviTapadia/SuperStore_Data/blob/main/superstore_eda.ipynb\" target=\"_parent\"><img src=\"https://colab.research.google.com/assets/colab-badge.svg\" alt=\"Open In Colab\"/></a>"
      ]
    },
    {
      "cell_type": "markdown",
      "source": [],
      "metadata": {
        "id": "dODPRCrRlq5y"
      }
    },
    {
      "cell_type": "markdown",
      "source": [
        "#Importing libraries\n"
      ],
      "metadata": {
        "id": "LSB7c5mlmGe3"
      }
    },
    {
      "cell_type": "code",
      "execution_count": null,
      "metadata": {
        "id": "KJaXaY7AAZxm"
      },
      "outputs": [],
      "source": [
        "\n",
        "import numpy as np\n",
        "import pandas as pd\n",
        "import matplotlib.pyplot as plt\n",
        "import seaborn as sns"
      ]
    },
    {
      "cell_type": "code",
      "source": [
        "# Importing google libraries to connect with BigQuery database\n",
        "from google.colab import auth\n",
        "auth.authenticate_user()\n",
        "\n",
        "\n",
        "#Setting project id\n",
        "from google.cloud import bigquery\n",
        "project_id = 'northern-net-378417'\n",
        "client = bigquery.Client(project=project_id)\n"
      ],
      "metadata": {
        "id": "zOxM5NfHlnPn"
      },
      "execution_count": null,
      "outputs": []
    },
    {
      "cell_type": "markdown",
      "source": [
        "#Importing data"
      ],
      "metadata": {
        "id": "OoQ56jbCmaIL"
      }
    },
    {
      "cell_type": "code",
      "source": [
        "#Importing ecmm sales data from BigQuery\n",
        "dataset_ref = client.dataset(\"thelook_ecommerce\", project=\"bigquery-public-data\")\n",
        "dataset = client.get_dataset(dataset_ref)\n",
        "tables = list(client.list_tables(dataset))"
      ],
      "metadata": {
        "id": "0Lhht-yeim-S"
      },
      "execution_count": 30,
      "outputs": []
    },
    {
      "cell_type": "code",
      "source": [
        "TableName = []  # Create an empty list to store the table names\n",
        "\n",
        "for table in tables:\n",
        "    TableName.append(table.table_id)  # Append each table's table_id to the list\n",
        "\n",
        "print(TableName)  # Print the list of table names (table IDs)\n"
      ],
      "metadata": {
        "id": "OJOWHVmFjFAd",
        "outputId": "2eb957a7-f6a7-4727-a27d-5e73cc0f89df",
        "colab": {
          "base_uri": "https://localhost:8080/"
        }
      },
      "execution_count": 51,
      "outputs": [
        {
          "output_type": "stream",
          "name": "stdout",
          "text": [
            "['distribution_centers', 'events', 'inventory_items', 'order_items', 'orders', 'products', 'users']\n"
          ]
        }
      ]
    },
    {
      "cell_type": "code",
      "source": [
        "\n",
        "data_frames = {}  # Create an empty dictionary to store the data frames\n",
        "\n",
        "for table_name in TableName:\n",
        "    table_ref = dataset_ref.table(table_name)\n",
        "    table = client.get_table(table_ref)\n",
        "    data_frames[table_name]  = client.list_rows(table, max_results=20000).to_dataframe()\n",
        "\n",
        "# Now, the 'data_frames' dictionary will contain data frames for each table name\n",
        "# You can access the data frame for a specific table name using its key in the dictionary\n"
      ],
      "metadata": {
        "id": "MaKcCYLtoX7O"
      },
      "execution_count": 64,
      "outputs": []
    },
    {
      "cell_type": "code",
      "source": [
        "table_name"
      ],
      "metadata": {
        "id": "vmLU7JgdpIlu",
        "outputId": "af612a6c-5396-4873-f4a8-fa76e9878625",
        "colab": {
          "base_uri": "https://localhost:8080/",
          "height": 35
        }
      },
      "execution_count": 65,
      "outputs": [
        {
          "output_type": "execute_result",
          "data": {
            "text/plain": [
              "'users'"
            ],
            "application/vnd.google.colaboratory.intrinsic+json": {
              "type": "string"
            }
          },
          "metadata": {},
          "execution_count": 65
        }
      ]
    }
  ]
}